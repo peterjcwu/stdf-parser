{
 "cells": [
  {
   "cell_type": "markdown",
   "id": "34ed0628-7aaf-48ba-9055-19de06e27047",
   "metadata": {},
   "source": [
    "## WLAN V11 Sweep"
   ]
  },
  {
   "cell_type": "markdown",
   "id": "3168795b-4078-4163-b36c-92a422dd9103",
   "metadata": {},
   "source": [
    "### 0. Constants"
   ]
  },
  {
   "cell_type": "code",
   "execution_count": 1,
   "id": "3c75af85-5459-4436-8dc1-f78b0deefaac",
   "metadata": {},
   "outputs": [],
   "source": [
    "PROJECT_NAME = \"redfinch\"  # decide with db to use\n",
    "STDF_FILE_NAME = \"sweep_with_svc.stdf.gz\"  # should be in the same folder with this notebook\n",
    "TEST_SUITE_NAME = \"Main.WLAN.RFU_RX_char.a_gainXrx_11axmcs0_2437_x_x__6dbgstepbw20\""
   ]
  },
  {
   "cell_type": "markdown",
   "id": "51ff7047-8d56-4c57-91df-b9d78c10472b",
   "metadata": {},
   "source": [
    "### 1. Upload stdf\n",
    "Set connection string for uploading records.<br/>\n",
    "<code>export DB_CONN_STR=mongodb://\\<your_conn_str\\> </code>\n"
   ]
  },
  {
   "cell_type": "code",
   "execution_count": 3,
   "id": "a8fd74b8-2d0f-47ab-959c-5926d4abe3f5",
   "metadata": {},
   "outputs": [
    {
     "name": "stdout",
     "output_type": "stream",
     "text": [
      "parse stdf sweep_with_svc successfully; mir_id=636a07897e438360e9cd27a3\n"
     ]
    }
   ],
   "source": [
    "import os\n",
    "from pymongo import MongoClient\n",
    "from stdfparser import parse, StdfPub, StdfSubWlan, DBConn\n",
    "\n",
    "db_conn = DBConn(\"redfinch\",)\n",
    "stdf_path = os.path.join(os.path.abspath(\"\"), STDF_FILE_NAME)\n",
    "\n",
    "# parse\n",
    "if db_conn.get_mir_id(stdf_path) is None:  # bypass stdf already in db\n",
    "    pub = StdfPub(STDF_FILE_NAME)\n",
    "    sub = StdfSubWlan(db_conn, stdf_path)\n",
    "    parse(pub, sub)"
   ]
  },
  {
   "cell_type": "markdown",
   "id": "bce8b3f8-af35-4389-9508-73b4f493d644",
   "metadata": {},
   "source": [
    "### 2. Fetch data"
   ]
  },
  {
   "cell_type": "code",
   "execution_count": null,
   "id": "f70be75d-725b-41dc-bba1-6ecd24957555",
   "metadata": {},
   "outputs": [],
   "source": [
    "import pandas as pd\n",
    "import numpy as np\n",
    "from fetch import get_records_v11\n",
    "\n",
    "df = pd.DataFrame.from_records(get_records_v11(db_conn, TEST_SUITE_NAME))\n",
    "df.head()"
   ]
  },
  {
   "cell_type": "markdown",
   "id": "af73f6ff-c13e-42b7-929c-839d47286cce",
   "metadata": {},
   "source": [
    "### 3. Plot"
   ]
  },
  {
   "cell_type": "code",
   "execution_count": null,
   "id": "78556630-d63b-4ce3-9483-ee80f24c5c7d",
   "metadata": {},
   "outputs": [],
   "source": [
    "from lets_plot import *\n",
    "from lets_plot.mapping import as_discrete\n",
    "LetsPlot.setup_html()\n",
    "\n",
    "data = {}\n",
    "for column in df.columns:\n",
    "    data[column] = df[column].tolist()\n",
    "    \n",
    "plot = ggplot(data=data) \\\n",
    "    + geom_point(mapping = aes(x='pout', y='rssi_min', color='part_id')) \\\n",
    "    + scale_color_discrete() \\\n",
    "    + facet_wrap(facets=\"v11\",  format=[\"V11: {} V\"], ncol=2)\n",
    "\n",
    "ggsave(plot)"
   ]
  },
  {
   "cell_type": "markdown",
   "id": "63ce5814-edca-428d-a923-fbda89d14150",
   "metadata": {},
   "source": [
    "### SVC Offsets"
   ]
  },
  {
   "cell_type": "code",
   "execution_count": null,
   "id": "c677b466-21eb-430e-b31e-3fb212301f58",
   "metadata": {},
   "outputs": [],
   "source": [
    "from fetch import get_records_svc\n",
    "svc_dict = get_records_svc(db_conn, text=\"svc1\")\n",
    "df[\"svc\"] = [svc_dict.get(part_id, 0) for part_id in data[\"part_id\"]]\n",
    "df[\"svc_offset\"] = df[\"v11\"] - df[\"svc\"]\n",
    "df[\"svc_offset_index\"] = df[\"svc_offset\"] / 0.015\n",
    "df = df.round({\"svc_offset_index\": 0})\n",
    "df[\"svc_offset_index\"] *= 15\n",
    "df = df[df[\"svc_offset_index\"] >= 0]\n",
    "df.head()"
   ]
  },
  {
   "cell_type": "code",
   "execution_count": null,
   "id": "05f5f3b5-464c-492e-95d2-0775d7650497",
   "metadata": {},
   "outputs": [],
   "source": [
    "data = {}\n",
    "for column in df.columns:\n",
    "    data[column] = df[column].tolist()\n",
    "\n",
    "ggplot(data=data) \\\n",
    "    + geom_point(mapping = aes(x='pout', y='rssi_min', color='part_id')) \\\n",
    "    + scale_color_discrete() \\\n",
    "    + facet_wrap(facets=\"svc_offset_index\",  format=[\"SVC Offset: {} mV\"], ncol=2)"
   ]
  }
 ],
 "metadata": {
  "kernelspec": {
   "display_name": "Python 3",
   "language": "python",
   "name": "python3"
  },
  "language_info": {
   "codemirror_mode": {
    "name": "ipython",
    "version": 3
   },
   "file_extension": ".py",
   "mimetype": "text/x-python",
   "name": "python",
   "nbconvert_exporter": "python",
   "pygments_lexer": "ipython3",
   "version": "3.8.8"
  }
 },
 "nbformat": 4,
 "nbformat_minor": 5
}
